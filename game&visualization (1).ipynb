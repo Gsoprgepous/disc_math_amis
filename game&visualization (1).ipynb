{
  "cells": [
    {
      "cell_type": "code",
      "source": [
        "pip install plotly\n"
      ],
      "metadata": {
        "colab": {
          "base_uri": "https://localhost:8080/"
        },
        "id": "Wt8afN9h9_yx",
        "outputId": "df5c0c71-c1e8-47c7-b6da-02408d17617b"
      },
      "execution_count": 19,
      "outputs": [
        {
          "output_type": "stream",
          "name": "stdout",
          "text": [
            "Requirement already satisfied: plotly in /usr/local/lib/python3.10/dist-packages (5.24.1)\n",
            "Requirement already satisfied: tenacity>=6.2.0 in /usr/local/lib/python3.10/dist-packages (from plotly) (9.0.0)\n",
            "Requirement already satisfied: packaging in /usr/local/lib/python3.10/dist-packages (from plotly) (24.1)\n"
          ]
        }
      ]
    },
    {
      "cell_type": "code",
      "source": [
        "import numpy as np\n",
        "import matplotlib.pyplot as plt\n",
        "# literally Chat GPT code, у меня только идеи и желание(\n",
        "# Определение множества полей с денежными вознаграждениями и штрафами\n",
        "class Board:\n",
        "    def __init__(self):\n",
        "        self.fields = [\n",
        "            {\"name\": \"Go\", \"reward\": 0},\n",
        "            {\"name\": \"Mediterranean Avenue\", \"reward\": -2},\n",
        "            {\"name\": \"Community Chest\", \"reward\": 0},\n",
        "            {\"name\": \"Baltic Avenue\", \"reward\": -2},\n",
        "            {\"name\": \"Income Tax\", \"reward\": -3},\n",
        "            {\"name\": \"Reading Railroad\", \"reward\": 5},\n",
        "            {\"name\": \"Oriental Avenue\", \"reward\": -2},\n",
        "            {\"name\": \"Chance\", \"reward\": 0},\n",
        "            {\"name\": \"Vermont Avenue\", \"reward\": -2},\n",
        "            {\"name\": \"Connecticut Avenue\", \"reward\": -2},\n",
        "            {\"name\": \"Jail\", \"reward\": 0},\n",
        "            {\"name\": \"St. Charles Place\", \"reward\": -3},\n",
        "            {\"name\": \"Electric Company\", \"reward\": 5},\n",
        "            {\"name\": \"States Avenue\", \"reward\": -2},\n",
        "            {\"name\": \"Virginia Avenue\", \"reward\": -2},\n",
        "            {\"name\": \"Free Parking\", \"reward\": 0},\n",
        "            {\"name\": \"St. James Place\", \"reward\": -2},\n",
        "            {\"name\": \"Community Chest\", \"reward\": 0},\n",
        "            {\"name\": \"Tennessee Avenue\", \"reward\": -2},\n",
        "            {\"name\": \"New York Avenue\", \"reward\": -2},\n",
        "            {\"name\": \"Jail\", \"reward\": 0},\n",
        "            {\"name\": \"Kentucky Avenue\", \"reward\": -2},\n",
        "            {\"name\": \"Chance\", \"reward\": 0},\n",
        "            {\"name\": \"Indiana Avenue\", \"reward\": -2},\n",
        "            {\"name\": \"Illinois Avenue\", \"reward\": -2},\n",
        "            {\"name\": \"B&O Railroad\", \"reward\": 5},\n",
        "            {\"name\": \"Atlantic Avenue\", \"reward\": -2},\n",
        "            {\"name\": \"Ventnor Avenue\", \"reward\": -2},\n",
        "            {\"name\": \"Water Works\", \"reward\": 5},\n",
        "            {\"name\": \"Marvin Gardens\", \"reward\": -2},\n",
        "            {\"name\": \"Go to Jail\", \"reward\": 0},\n",
        "            {\"name\": \"Pacific Avenue\", \"reward\": -2},\n",
        "            {\"name\": \"North Carolina Avenue\", \"reward\": -2},\n",
        "            {\"name\": \"Community Chest\", \"reward\": 0},\n",
        "            {\"name\": \"Pennsylvania Avenue\", \"reward\": -2},\n",
        "            {\"name\": \"Short Line\", \"reward\": 5},\n",
        "            {\"name\": \"Chance\", \"reward\": 0},\n",
        "            {\"name\": \"Park Place\", \"reward\": -3},\n",
        "            {\"name\": \"Luxury Tax\", \"reward\": -4},\n",
        "            {\"name\": \"Boardwalk\", \"reward\": -2}\n",
        "        ]\n",
        "\n",
        "    def get_field(self, position):\n",
        "        return self.fields[position % len(self.fields)]\n",
        "\n",
        "# Индикаторная функция для определения состояния игрока\n",
        "def player_state_indicator(position, balance):\n",
        "    return {\n",
        "        'on_field': True if position >= 0 else False,\n",
        "        'in_jail': position == 10,\n",
        "        'on_go': position == 0,\n",
        "        'on_free_parking': position == 20,\n",
        "        'on_community_chest': position in [2, 17],\n",
        "        'on_chance': position in [7, 22, 36],\n",
        "        'balance': balance\n",
        "    }\n",
        "\n",
        "# Симуляция игры с учетом денежного вознаграждения\n",
        "def simulate_game(num_turns=1000):\n",
        "    board = Board()\n",
        "    position = 0\n",
        "    balance = 10  # Начальный баланс игрока\n",
        "    win_count = 0\n",
        "\n",
        "    for _ in range(num_turns):\n",
        "        dice_roll = np.random.randint(1, 7) + np.random.randint(1, 7)  # Бросок двух кубиков\n",
        "        position += dice_roll\n",
        "\n",
        "        # Индикаторная функция для проверки состояния игрока\n",
        "        state = player_state_indicator(position, balance)\n",
        "\n",
        "        # Определение действия на основании текущего положения\n",
        "        current_field = board.get_field(position)\n",
        "        balance += current_field['reward']  # Изменение баланса в зависимости от текущего поля\n",
        "\n",
        "        # Если баланс становится отрицательным, игрок \"выбывает\"\n",
        "        if balance < 0:\n",
        "            position = 0  # Сброс позиции после \"выбывания\"\n",
        "            balance = 10  # Возврат к начальному балансу\n",
        "        elif position >= len(board.fields) - 1:\n",
        "            win_count += 1\n",
        "            position = 0  # Перезапуск после выигрыша\n",
        "\n",
        "    win_probability = win_count / num_turns\n",
        "    return win_probability\n",
        "\n",
        "# Параметры симуляции\n",
        "num_turns = 10000\n",
        "win_prob = simulate_game(num_turns)\n",
        "\n",
        "print(f\"Estimated Probability of Winning: {win_prob:.4f}\")\n",
        "\n",
        "\n",
        "\n",
        "\n"
      ],
      "metadata": {
        "colab": {
          "base_uri": "https://localhost:8080/"
        },
        "id": "Z7IRF4ve6Pfu",
        "outputId": "aa03aba6-baf7-4820-b651-931ab36a69cf"
      },
      "execution_count": 22,
      "outputs": [
        {
          "output_type": "stream",
          "name": "stdout",
          "text": [
            "Estimated Probability of Winning: 0.1312\n"
          ]
        }
      ]
    },
    {
      "cell_type": "code",
      "source": [
        "import plotly.graph_objects as go\n",
        "import numpy as np\n",
        "#just fascinating without a particular meaning\n",
        "# Определяем координаты полей на 3D модели\n",
        "num_fields = 40\n",
        "theta = np.linspace(0, 2 * np.pi, num_fields)\n",
        "radius = 5\n",
        "\n",
        "# Координаты полей\n",
        "x = radius * np.cos(theta)\n",
        "y = radius * np.sin(theta)\n",
        "z = np.zeros(num_fields)\n",
        "\n",
        "# Состояние зданий (случайно)\n",
        "houses = np.random.randint(0, 5, num_fields)  # от 0 до 4 домов на каждом поле\n",
        "\n",
        "# Создаем 3D график\n",
        "fig = go.Figure()\n",
        "\n",
        "# Добавляем поля\n",
        "for i in range(num_fields):\n",
        "    fig.add_trace(go.Scatter3d(\n",
        "        x=[x[i]],\n",
        "        y=[y[i]],\n",
        "        z=[houses[i]],\n",
        "        mode='markers+text',\n",
        "        text=[f'Field {i+1}\\nHouses: {houses[i]}'],\n",
        "        textposition=\"top center\",\n",
        "        marker=dict(size=10, color='blue' if houses[i] > 0 else 'red')\n",
        "    ))\n",
        "\n",
        "# Настройки графика\n",
        "fig.update_layout(\n",
        "    title='3D Model of Monopoly Board',\n",
        "    scene=dict(\n",
        "        xaxis=dict(title='X Axis'),\n",
        "        yaxis=dict(title='Y Axis'),\n",
        "        zaxis=dict(title='Houses')\n",
        "    ),\n",
        "    showlegend=False\n",
        ")\n",
        "\n",
        "fig.show()\n"
      ],
      "metadata": {
        "colab": {
          "base_uri": "https://localhost:8080/",
          "height": 542
        },
        "id": "oEGnQPmp-AqE",
        "outputId": "6abe5fa1-557f-4064-b4cd-5a9f7cb2d3d0"
      },
      "execution_count": 23,
      "outputs": [
        {
          "output_type": "display_data",
          "data": {
            "text/html": [
              "<html>\n",
              "<head><meta charset=\"utf-8\" /></head>\n",
              "<body>\n",
              "    <div>            <script src=\"https://cdnjs.cloudflare.com/ajax/libs/mathjax/2.7.5/MathJax.js?config=TeX-AMS-MML_SVG\"></script><script type=\"text/javascript\">if (window.MathJax && window.MathJax.Hub && window.MathJax.Hub.Config) {window.MathJax.Hub.Config({SVG: {font: \"STIX-Web\"}});}</script>                <script type=\"text/javascript\">window.PlotlyConfig = {MathJaxConfig: 'local'};</script>\n",
              "        <script charset=\"utf-8\" src=\"https://cdn.plot.ly/plotly-2.35.2.min.js\"></script>                <div id=\"ef1286a6-090e-451d-8a77-28a9f8c83317\" class=\"plotly-graph-div\" style=\"height:525px; width:100%;\"></div>            <script type=\"text/javascript\">                                    window.PLOTLYENV=window.PLOTLYENV || {};                                    if (document.getElementById(\"ef1286a6-090e-451d-8a77-28a9f8c83317\")) {                    Plotly.newPlot(                        \"ef1286a6-090e-451d-8a77-28a9f8c83317\",                        [{\"marker\":{\"color\":\"blue\",\"size\":10},\"mode\":\"markers+text\",\"text\":[\"Field 1\\nHouses: 4\"],\"textposition\":\"top center\",\"x\":[5.0],\"y\":[0.0],\"z\":[4],\"type\":\"scatter3d\"},{\"marker\":{\"color\":\"blue\",\"size\":10},\"mode\":\"markers+text\",\"text\":[\"Field 2\\nHouses: 4\"],\"textposition\":\"top center\",\"x\":[4.935251313189564],\"y\":[0.8020564042888012],\"z\":[4],\"type\":\"scatter3d\"},{\"marker\":{\"color\":\"blue\",\"size\":10},\"mode\":\"markers+text\",\"text\":[\"Field 3\\nHouses: 1\"],\"textposition\":\"top center\",\"x\":[4.742682209735728],\"y\":[1.5833399690073624],\"z\":[1],\"type\":\"scatter3d\"},{\"marker\":{\"color\":\"blue\",\"size\":10},\"mode\":\"markers+text\",\"text\":[\"Field 4\\nHouses: 3\"],\"textposition\":\"top center\",\"x\":[4.42728012826605],\"y\":[2.3236158602188426],\"z\":[3],\"type\":\"scatter3d\"},{\"marker\":{\"color\":\"blue\",\"size\":10},\"mode\":\"markers+text\",\"text\":[\"Field 5\\nHouses: 2\"],\"textposition\":\"top center\",\"x\":[3.997213817017506],\"y\":[3.0037113211898943],\"z\":[2],\"type\":\"scatter3d\"},{\"marker\":{\"color\":\"blue\",\"size\":10},\"mode\":\"markers+text\",\"text\":[\"Field 6\\nHouses: 2\"],\"textposition\":\"top center\",\"x\":[3.4636217675479974],\"y\":[3.606012236719072],\"z\":[2],\"type\":\"scatter3d\"},{\"marker\":{\"color\":\"blue\",\"size\":10},\"mode\":\"markers+text\",\"text\":[\"Field 7\\nHouses: 2\"],\"textposition\":\"top center\",\"x\":[2.8403237336557794],\"y\":[4.1149193294682815],\"z\":[2],\"type\":\"scatter3d\"},{\"marker\":{\"color\":\"blue\",\"size\":10},\"mode\":\"markers+text\",\"text\":[\"Field 8\\nHouses: 2\"],\"textposition\":\"top center\",\"x\":[2.143462807015271],\"y\":[4.5172521730519115],\"z\":[2],\"type\":\"scatter3d\"},{\"marker\":{\"color\":\"blue\",\"size\":10},\"mode\":\"markers+text\",\"text\":[\"Field 9\\nHouses: 3\"],\"textposition\":\"top center\",\"x\":[1.3910873195822637],\"y\":[4.8025905581568615],\"z\":[3],\"type\":\"scatter3d\"},{\"marker\":{\"color\":\"blue\",\"size\":10},\"mode\":\"markers+text\",\"text\":[\"Field 10\\nHouses: 1\"],\"textposition\":\"top center\",\"x\":[0.6026834012766161],\"y\":[4.96354437049027],\"z\":[1],\"type\":\"scatter3d\"},{\"marker\":{\"color\":\"blue\",\"size\":10},\"mode\":\"markers+text\",\"text\":[\"Field 11\\nHouses: 3\"],\"textposition\":\"top center\",\"x\":[-0.2013297005470745],\"y\":[4.995944990857849],\"z\":[3],\"type\":\"scatter3d\"},{\"marker\":{\"color\":\"blue\",\"size\":10},\"mode\":\"markers+text\",\"text\":[\"Field 12\\nHouses: 2\"],\"textposition\":\"top center\",\"x\":[-1.0001284688802217],\"y\":[4.898953260211338],\"z\":[2],\"type\":\"scatter3d\"},{\"marker\":{\"color\":\"blue\",\"size\":10},\"mode\":\"markers+text\",\"text\":[\"Field 13\\nHouses: 4\"],\"textposition\":\"top center\",\"x\":[-1.7730244352126774],\"y\":[4.675081213427074],\"z\":[4],\"type\":\"scatter3d\"},{\"marker\":{\"color\":\"blue\",\"size\":10},\"mode\":\"markers+text\",\"text\":[\"Field 14\\nHouses: 2\"],\"textposition\":\"top center\",\"x\":[-2.499999999999999],\"y\":[4.330127018922194],\"z\":[2],\"type\":\"scatter3d\"},{\"marker\":{\"color\":\"blue\",\"size\":10},\"mode\":\"markers+text\",\"text\":[\"Field 15\\nHouses: 4\"],\"textposition\":\"top center\",\"x\":[-3.162226877976886],\"y\":[3.873024809138273],\"z\":[4],\"type\":\"scatter3d\"},{\"marker\":{\"color\":\"blue\",\"size\":10},\"mode\":\"markers+text\",\"text\":[\"Field 16\\nHouses: 3\"],\"textposition\":\"top center\",\"x\":[-3.742553740855504],\"y\":[3.3156132912039777],\"z\":[3],\"type\":\"scatter3d\"},{\"marker\":{\"color\":\"blue\",\"size\":10},\"mode\":\"markers+text\",\"text\":[\"Field 17\\nHouses: 3\"],\"textposition\":\"top center\",\"x\":[-4.225950427718973],\"y\":[2.6723291306390062],\"z\":[3],\"type\":\"scatter3d\"},{\"marker\":{\"color\":\"blue\",\"size\":10},\"mode\":\"markers+text\",\"text\":[\"Field 18\\nHouses: 1\"],\"textposition\":\"top center\",\"x\":[-4.599897218294121],\"y\":[1.9598330493003757],\"z\":[1],\"type\":\"scatter3d\"},{\"marker\":{\"color\":\"blue\",\"size\":10},\"mode\":\"markers+text\",\"text\":[\"Field 19\\nHouses: 2\"],\"textposition\":\"top center\",\"x\":[-4.854709087130259],\"y\":[1.1965783214377905],\"z\":[2],\"type\":\"scatter3d\"},{\"marker\":{\"color\":\"blue\",\"size\":10},\"mode\":\"markers+text\",\"text\":[\"Field 20\\nHouses: 3\"],\"textposition\":\"top center\",\"x\":[-4.9837865406710495],\"y\":[0.4023328435836304],\"z\":[3],\"type\":\"scatter3d\"},{\"marker\":{\"color\":\"blue\",\"size\":10},\"mode\":\"markers+text\",\"text\":[\"Field 21\\nHouses: 2\"],\"textposition\":\"top center\",\"x\":[-4.98378654067105],\"y\":[-0.402332843583627],\"z\":[2],\"type\":\"scatter3d\"},{\"marker\":{\"color\":\"blue\",\"size\":10},\"mode\":\"markers+text\",\"text\":[\"Field 22\\nHouses: 2\"],\"textposition\":\"top center\",\"x\":[-4.854709087130261],\"y\":[-1.1965783214377872],\"z\":[2],\"type\":\"scatter3d\"},{\"marker\":{\"color\":\"red\",\"size\":10},\"mode\":\"markers+text\",\"text\":[\"Field 23\\nHouses: 0\"],\"textposition\":\"top center\",\"x\":[-4.599897218294121],\"y\":[-1.9598330493003746],\"z\":[0],\"type\":\"scatter3d\"},{\"marker\":{\"color\":\"blue\",\"size\":10},\"mode\":\"markers+text\",\"text\":[\"Field 24\\nHouses: 2\"],\"textposition\":\"top center\",\"x\":[-4.225950427718975],\"y\":[-2.6723291306390036],\"z\":[2],\"type\":\"scatter3d\"},{\"marker\":{\"color\":\"blue\",\"size\":10},\"mode\":\"markers+text\",\"text\":[\"Field 25\\nHouses: 2\"],\"textposition\":\"top center\",\"x\":[-3.7425537408555067],\"y\":[-3.3156132912039746],\"z\":[2],\"type\":\"scatter3d\"},{\"marker\":{\"color\":\"blue\",\"size\":10},\"mode\":\"markers+text\",\"text\":[\"Field 26\\nHouses: 1\"],\"textposition\":\"top center\",\"x\":[-3.1622268779768885],\"y\":[-3.8730248091382706],\"z\":[1],\"type\":\"scatter3d\"},{\"marker\":{\"color\":\"red\",\"size\":10},\"mode\":\"markers+text\",\"text\":[\"Field 27\\nHouses: 0\"],\"textposition\":\"top center\",\"x\":[-2.500000000000002],\"y\":[-4.330127018922192],\"z\":[0],\"type\":\"scatter3d\"},{\"marker\":{\"color\":\"blue\",\"size\":10},\"mode\":\"markers+text\",\"text\":[\"Field 28\\nHouses: 4\"],\"textposition\":\"top center\",\"x\":[-1.7730244352126796],\"y\":[-4.675081213427074],\"z\":[4],\"type\":\"scatter3d\"},{\"marker\":{\"color\":\"blue\",\"size\":10},\"mode\":\"markers+text\",\"text\":[\"Field 29\\nHouses: 1\"],\"textposition\":\"top center\",\"x\":[-1.0001284688802228],\"y\":[-4.898953260211338],\"z\":[1],\"type\":\"scatter3d\"},{\"marker\":{\"color\":\"red\",\"size\":10},\"mode\":\"markers+text\",\"text\":[\"Field 30\\nHouses: 0\"],\"textposition\":\"top center\",\"x\":[-0.20132970054707572],\"y\":[-4.995944990857848],\"z\":[0],\"type\":\"scatter3d\"},{\"marker\":{\"color\":\"blue\",\"size\":10},\"mode\":\"markers+text\",\"text\":[\"Field 31\\nHouses: 4\"],\"textposition\":\"top center\",\"x\":[0.6026834012766116],\"y\":[-4.96354437049027],\"z\":[4],\"type\":\"scatter3d\"},{\"marker\":{\"color\":\"blue\",\"size\":10},\"mode\":\"markers+text\",\"text\":[\"Field 32\\nHouses: 3\"],\"textposition\":\"top center\",\"x\":[1.3910873195822604],\"y\":[-4.802590558156862],\"z\":[3],\"type\":\"scatter3d\"},{\"marker\":{\"color\":\"blue\",\"size\":10},\"mode\":\"markers+text\",\"text\":[\"Field 33\\nHouses: 1\"],\"textposition\":\"top center\",\"x\":[2.143462807015269],\"y\":[-4.517252173051912],\"z\":[1],\"type\":\"scatter3d\"},{\"marker\":{\"color\":\"blue\",\"size\":10},\"mode\":\"markers+text\",\"text\":[\"Field 34\\nHouses: 1\"],\"textposition\":\"top center\",\"x\":[2.840323733655778],\"y\":[-4.114919329468282],\"z\":[1],\"type\":\"scatter3d\"},{\"marker\":{\"color\":\"blue\",\"size\":10},\"mode\":\"markers+text\",\"text\":[\"Field 35\\nHouses: 1\"],\"textposition\":\"top center\",\"x\":[3.4636217675479966],\"y\":[-3.6060122367190734],\"z\":[1],\"type\":\"scatter3d\"},{\"marker\":{\"color\":\"blue\",\"size\":10},\"mode\":\"markers+text\",\"text\":[\"Field 36\\nHouses: 3\"],\"textposition\":\"top center\",\"x\":[3.997213817017503],\"y\":[-3.003711321189898],\"z\":[3],\"type\":\"scatter3d\"},{\"marker\":{\"color\":\"blue\",\"size\":10},\"mode\":\"markers+text\",\"text\":[\"Field 37\\nHouses: 3\"],\"textposition\":\"top center\",\"x\":[4.427280128266048],\"y\":[-2.3236158602188457],\"z\":[3],\"type\":\"scatter3d\"},{\"marker\":{\"color\":\"blue\",\"size\":10},\"mode\":\"markers+text\",\"text\":[\"Field 38\\nHouses: 4\"],\"textposition\":\"top center\",\"x\":[4.742682209735727],\"y\":[-1.583339969007365],\"z\":[4],\"type\":\"scatter3d\"},{\"marker\":{\"color\":\"red\",\"size\":10},\"mode\":\"markers+text\",\"text\":[\"Field 39\\nHouses: 0\"],\"textposition\":\"top center\",\"x\":[4.935251313189564],\"y\":[-0.8020564042888032],\"z\":[0],\"type\":\"scatter3d\"},{\"marker\":{\"color\":\"blue\",\"size\":10},\"mode\":\"markers+text\",\"text\":[\"Field 40\\nHouses: 3\"],\"textposition\":\"top center\",\"x\":[5.0],\"y\":[-1.2246467991473533e-15],\"z\":[3],\"type\":\"scatter3d\"}],                        {\"template\":{\"data\":{\"histogram2dcontour\":[{\"type\":\"histogram2dcontour\",\"colorbar\":{\"outlinewidth\":0,\"ticks\":\"\"},\"colorscale\":[[0.0,\"#0d0887\"],[0.1111111111111111,\"#46039f\"],[0.2222222222222222,\"#7201a8\"],[0.3333333333333333,\"#9c179e\"],[0.4444444444444444,\"#bd3786\"],[0.5555555555555556,\"#d8576b\"],[0.6666666666666666,\"#ed7953\"],[0.7777777777777778,\"#fb9f3a\"],[0.8888888888888888,\"#fdca26\"],[1.0,\"#f0f921\"]]}],\"choropleth\":[{\"type\":\"choropleth\",\"colorbar\":{\"outlinewidth\":0,\"ticks\":\"\"}}],\"histogram2d\":[{\"type\":\"histogram2d\",\"colorbar\":{\"outlinewidth\":0,\"ticks\":\"\"},\"colorscale\":[[0.0,\"#0d0887\"],[0.1111111111111111,\"#46039f\"],[0.2222222222222222,\"#7201a8\"],[0.3333333333333333,\"#9c179e\"],[0.4444444444444444,\"#bd3786\"],[0.5555555555555556,\"#d8576b\"],[0.6666666666666666,\"#ed7953\"],[0.7777777777777778,\"#fb9f3a\"],[0.8888888888888888,\"#fdca26\"],[1.0,\"#f0f921\"]]}],\"heatmap\":[{\"type\":\"heatmap\",\"colorbar\":{\"outlinewidth\":0,\"ticks\":\"\"},\"colorscale\":[[0.0,\"#0d0887\"],[0.1111111111111111,\"#46039f\"],[0.2222222222222222,\"#7201a8\"],[0.3333333333333333,\"#9c179e\"],[0.4444444444444444,\"#bd3786\"],[0.5555555555555556,\"#d8576b\"],[0.6666666666666666,\"#ed7953\"],[0.7777777777777778,\"#fb9f3a\"],[0.8888888888888888,\"#fdca26\"],[1.0,\"#f0f921\"]]}],\"heatmapgl\":[{\"type\":\"heatmapgl\",\"colorbar\":{\"outlinewidth\":0,\"ticks\":\"\"},\"colorscale\":[[0.0,\"#0d0887\"],[0.1111111111111111,\"#46039f\"],[0.2222222222222222,\"#7201a8\"],[0.3333333333333333,\"#9c179e\"],[0.4444444444444444,\"#bd3786\"],[0.5555555555555556,\"#d8576b\"],[0.6666666666666666,\"#ed7953\"],[0.7777777777777778,\"#fb9f3a\"],[0.8888888888888888,\"#fdca26\"],[1.0,\"#f0f921\"]]}],\"contourcarpet\":[{\"type\":\"contourcarpet\",\"colorbar\":{\"outlinewidth\":0,\"ticks\":\"\"}}],\"contour\":[{\"type\":\"contour\",\"colorbar\":{\"outlinewidth\":0,\"ticks\":\"\"},\"colorscale\":[[0.0,\"#0d0887\"],[0.1111111111111111,\"#46039f\"],[0.2222222222222222,\"#7201a8\"],[0.3333333333333333,\"#9c179e\"],[0.4444444444444444,\"#bd3786\"],[0.5555555555555556,\"#d8576b\"],[0.6666666666666666,\"#ed7953\"],[0.7777777777777778,\"#fb9f3a\"],[0.8888888888888888,\"#fdca26\"],[1.0,\"#f0f921\"]]}],\"surface\":[{\"type\":\"surface\",\"colorbar\":{\"outlinewidth\":0,\"ticks\":\"\"},\"colorscale\":[[0.0,\"#0d0887\"],[0.1111111111111111,\"#46039f\"],[0.2222222222222222,\"#7201a8\"],[0.3333333333333333,\"#9c179e\"],[0.4444444444444444,\"#bd3786\"],[0.5555555555555556,\"#d8576b\"],[0.6666666666666666,\"#ed7953\"],[0.7777777777777778,\"#fb9f3a\"],[0.8888888888888888,\"#fdca26\"],[1.0,\"#f0f921\"]]}],\"mesh3d\":[{\"type\":\"mesh3d\",\"colorbar\":{\"outlinewidth\":0,\"ticks\":\"\"}}],\"scatter\":[{\"fillpattern\":{\"fillmode\":\"overlay\",\"size\":10,\"solidity\":0.2},\"type\":\"scatter\"}],\"parcoords\":[{\"type\":\"parcoords\",\"line\":{\"colorbar\":{\"outlinewidth\":0,\"ticks\":\"\"}}}],\"scatterpolargl\":[{\"type\":\"scatterpolargl\",\"marker\":{\"colorbar\":{\"outlinewidth\":0,\"ticks\":\"\"}}}],\"bar\":[{\"error_x\":{\"color\":\"#2a3f5f\"},\"error_y\":{\"color\":\"#2a3f5f\"},\"marker\":{\"line\":{\"color\":\"#E5ECF6\",\"width\":0.5},\"pattern\":{\"fillmode\":\"overlay\",\"size\":10,\"solidity\":0.2}},\"type\":\"bar\"}],\"scattergeo\":[{\"type\":\"scattergeo\",\"marker\":{\"colorbar\":{\"outlinewidth\":0,\"ticks\":\"\"}}}],\"scatterpolar\":[{\"type\":\"scatterpolar\",\"marker\":{\"colorbar\":{\"outlinewidth\":0,\"ticks\":\"\"}}}],\"histogram\":[{\"marker\":{\"pattern\":{\"fillmode\":\"overlay\",\"size\":10,\"solidity\":0.2}},\"type\":\"histogram\"}],\"scattergl\":[{\"type\":\"scattergl\",\"marker\":{\"colorbar\":{\"outlinewidth\":0,\"ticks\":\"\"}}}],\"scatter3d\":[{\"type\":\"scatter3d\",\"line\":{\"colorbar\":{\"outlinewidth\":0,\"ticks\":\"\"}},\"marker\":{\"colorbar\":{\"outlinewidth\":0,\"ticks\":\"\"}}}],\"scattermapbox\":[{\"type\":\"scattermapbox\",\"marker\":{\"colorbar\":{\"outlinewidth\":0,\"ticks\":\"\"}}}],\"scatterternary\":[{\"type\":\"scatterternary\",\"marker\":{\"colorbar\":{\"outlinewidth\":0,\"ticks\":\"\"}}}],\"scattercarpet\":[{\"type\":\"scattercarpet\",\"marker\":{\"colorbar\":{\"outlinewidth\":0,\"ticks\":\"\"}}}],\"carpet\":[{\"aaxis\":{\"endlinecolor\":\"#2a3f5f\",\"gridcolor\":\"white\",\"linecolor\":\"white\",\"minorgridcolor\":\"white\",\"startlinecolor\":\"#2a3f5f\"},\"baxis\":{\"endlinecolor\":\"#2a3f5f\",\"gridcolor\":\"white\",\"linecolor\":\"white\",\"minorgridcolor\":\"white\",\"startlinecolor\":\"#2a3f5f\"},\"type\":\"carpet\"}],\"table\":[{\"cells\":{\"fill\":{\"color\":\"#EBF0F8\"},\"line\":{\"color\":\"white\"}},\"header\":{\"fill\":{\"color\":\"#C8D4E3\"},\"line\":{\"color\":\"white\"}},\"type\":\"table\"}],\"barpolar\":[{\"marker\":{\"line\":{\"color\":\"#E5ECF6\",\"width\":0.5},\"pattern\":{\"fillmode\":\"overlay\",\"size\":10,\"solidity\":0.2}},\"type\":\"barpolar\"}],\"pie\":[{\"automargin\":true,\"type\":\"pie\"}]},\"layout\":{\"autotypenumbers\":\"strict\",\"colorway\":[\"#636efa\",\"#EF553B\",\"#00cc96\",\"#ab63fa\",\"#FFA15A\",\"#19d3f3\",\"#FF6692\",\"#B6E880\",\"#FF97FF\",\"#FECB52\"],\"font\":{\"color\":\"#2a3f5f\"},\"hovermode\":\"closest\",\"hoverlabel\":{\"align\":\"left\"},\"paper_bgcolor\":\"white\",\"plot_bgcolor\":\"#E5ECF6\",\"polar\":{\"bgcolor\":\"#E5ECF6\",\"angularaxis\":{\"gridcolor\":\"white\",\"linecolor\":\"white\",\"ticks\":\"\"},\"radialaxis\":{\"gridcolor\":\"white\",\"linecolor\":\"white\",\"ticks\":\"\"}},\"ternary\":{\"bgcolor\":\"#E5ECF6\",\"aaxis\":{\"gridcolor\":\"white\",\"linecolor\":\"white\",\"ticks\":\"\"},\"baxis\":{\"gridcolor\":\"white\",\"linecolor\":\"white\",\"ticks\":\"\"},\"caxis\":{\"gridcolor\":\"white\",\"linecolor\":\"white\",\"ticks\":\"\"}},\"coloraxis\":{\"colorbar\":{\"outlinewidth\":0,\"ticks\":\"\"}},\"colorscale\":{\"sequential\":[[0.0,\"#0d0887\"],[0.1111111111111111,\"#46039f\"],[0.2222222222222222,\"#7201a8\"],[0.3333333333333333,\"#9c179e\"],[0.4444444444444444,\"#bd3786\"],[0.5555555555555556,\"#d8576b\"],[0.6666666666666666,\"#ed7953\"],[0.7777777777777778,\"#fb9f3a\"],[0.8888888888888888,\"#fdca26\"],[1.0,\"#f0f921\"]],\"sequentialminus\":[[0.0,\"#0d0887\"],[0.1111111111111111,\"#46039f\"],[0.2222222222222222,\"#7201a8\"],[0.3333333333333333,\"#9c179e\"],[0.4444444444444444,\"#bd3786\"],[0.5555555555555556,\"#d8576b\"],[0.6666666666666666,\"#ed7953\"],[0.7777777777777778,\"#fb9f3a\"],[0.8888888888888888,\"#fdca26\"],[1.0,\"#f0f921\"]],\"diverging\":[[0,\"#8e0152\"],[0.1,\"#c51b7d\"],[0.2,\"#de77ae\"],[0.3,\"#f1b6da\"],[0.4,\"#fde0ef\"],[0.5,\"#f7f7f7\"],[0.6,\"#e6f5d0\"],[0.7,\"#b8e186\"],[0.8,\"#7fbc41\"],[0.9,\"#4d9221\"],[1,\"#276419\"]]},\"xaxis\":{\"gridcolor\":\"white\",\"linecolor\":\"white\",\"ticks\":\"\",\"title\":{\"standoff\":15},\"zerolinecolor\":\"white\",\"automargin\":true,\"zerolinewidth\":2},\"yaxis\":{\"gridcolor\":\"white\",\"linecolor\":\"white\",\"ticks\":\"\",\"title\":{\"standoff\":15},\"zerolinecolor\":\"white\",\"automargin\":true,\"zerolinewidth\":2},\"scene\":{\"xaxis\":{\"backgroundcolor\":\"#E5ECF6\",\"gridcolor\":\"white\",\"linecolor\":\"white\",\"showbackground\":true,\"ticks\":\"\",\"zerolinecolor\":\"white\",\"gridwidth\":2},\"yaxis\":{\"backgroundcolor\":\"#E5ECF6\",\"gridcolor\":\"white\",\"linecolor\":\"white\",\"showbackground\":true,\"ticks\":\"\",\"zerolinecolor\":\"white\",\"gridwidth\":2},\"zaxis\":{\"backgroundcolor\":\"#E5ECF6\",\"gridcolor\":\"white\",\"linecolor\":\"white\",\"showbackground\":true,\"ticks\":\"\",\"zerolinecolor\":\"white\",\"gridwidth\":2}},\"shapedefaults\":{\"line\":{\"color\":\"#2a3f5f\"}},\"annotationdefaults\":{\"arrowcolor\":\"#2a3f5f\",\"arrowhead\":0,\"arrowwidth\":1},\"geo\":{\"bgcolor\":\"white\",\"landcolor\":\"#E5ECF6\",\"subunitcolor\":\"white\",\"showland\":true,\"showlakes\":true,\"lakecolor\":\"white\"},\"title\":{\"x\":0.05},\"mapbox\":{\"style\":\"light\"}}},\"title\":{\"text\":\"3D Model of Monopoly Board\"},\"scene\":{\"xaxis\":{\"title\":{\"text\":\"X Axis\"}},\"yaxis\":{\"title\":{\"text\":\"Y Axis\"}},\"zaxis\":{\"title\":{\"text\":\"Houses\"}}},\"showlegend\":false},                        {\"responsive\": true}                    ).then(function(){\n",
              "                            \n",
              "var gd = document.getElementById('ef1286a6-090e-451d-8a77-28a9f8c83317');\n",
              "var x = new MutationObserver(function (mutations, observer) {{\n",
              "        var display = window.getComputedStyle(gd).display;\n",
              "        if (!display || display === 'none') {{\n",
              "            console.log([gd, 'removed!']);\n",
              "            Plotly.purge(gd);\n",
              "            observer.disconnect();\n",
              "        }}\n",
              "}});\n",
              "\n",
              "// Listen for the removal of the full notebook cells\n",
              "var notebookContainer = gd.closest('#notebook-container');\n",
              "if (notebookContainer) {{\n",
              "    x.observe(notebookContainer, {childList: true});\n",
              "}}\n",
              "\n",
              "// Listen for the clearing of the current output cell\n",
              "var outputEl = gd.closest('.output');\n",
              "if (outputEl) {{\n",
              "    x.observe(outputEl, {childList: true});\n",
              "}}\n",
              "\n",
              "                        })                };                            </script>        </div>\n",
              "</body>\n",
              "</html>"
            ]
          },
          "metadata": {}
        }
      ]
    },
    {
      "cell_type": "code",
      "source": [
        "# Задаем данные для вероятностей приземления\n",
        "num_rolls = 6  # количество сторон кубика\n",
        "num_simulations = 1000  # количество симуляций\n",
        "landing_probability = np.random.rand(num_fields)  # случайные вероятности для каждого поля\n",
        "\n",
        "# Создаем 3D график вероятностей\n",
        "fig2 = go.Figure()\n",
        "\n",
        "# Добавляем данные\n",
        "for i in range(num_fields):\n",
        "    z_value = landing_probability[i] * 10  # множим для визуализации\n",
        "    fig2.add_trace(go.Scatter3d(\n",
        "        x=np.repeat(i + 1, num_rolls),  # количество бросков\n",
        "        y=np.arange(1, num_rolls + 1),  # возможные значения кубика\n",
        "        z=np.full(num_rolls, z_value),  # вероятность\n",
        "        mode='lines+markers',\n",
        "        marker=dict(size=5, color='orange'),\n",
        "        line=dict(width=2)\n",
        "    ))\n",
        "\n",
        "# Настройки графика вероятностей\n",
        "fig2.update_layout(\n",
        "    title='3D Landing Probability on Monopoly Fields',\n",
        "    scene=dict(\n",
        "        xaxis=dict(title='Fields'),\n",
        "        yaxis=dict(title='Dice Rolls'),\n",
        "        zaxis=dict(title='Landing Probability')\n",
        "    )\n",
        ")\n",
        "\n",
        "fig2.show()\n"
      ],
      "metadata": {
        "colab": {
          "base_uri": "https://localhost:8080/",
          "height": 542
        },
        "id": "Yzeym1Oc-HqF",
        "outputId": "a0f710e7-242e-450b-f667-3604a6cb5feb"
      },
      "execution_count": 21,
      "outputs": [
        {
          "output_type": "display_data",
          "data": {
            "text/html": [
              "<html>\n",
              "<head><meta charset=\"utf-8\" /></head>\n",
              "<body>\n",
              "    <div>            <script src=\"https://cdnjs.cloudflare.com/ajax/libs/mathjax/2.7.5/MathJax.js?config=TeX-AMS-MML_SVG\"></script><script type=\"text/javascript\">if (window.MathJax && window.MathJax.Hub && window.MathJax.Hub.Config) {window.MathJax.Hub.Config({SVG: {font: \"STIX-Web\"}});}</script>                <script type=\"text/javascript\">window.PlotlyConfig = {MathJaxConfig: 'local'};</script>\n",
              "        <script charset=\"utf-8\" src=\"https://cdn.plot.ly/plotly-2.35.2.min.js\"></script>                <div id=\"d492750f-6515-439b-92c7-65aff0b4e4af\" class=\"plotly-graph-div\" style=\"height:525px; width:100%;\"></div>            <script type=\"text/javascript\">                                    window.PLOTLYENV=window.PLOTLYENV || {};                                    if (document.getElementById(\"d492750f-6515-439b-92c7-65aff0b4e4af\")) {                    Plotly.newPlot(                        \"d492750f-6515-439b-92c7-65aff0b4e4af\",                        [{\"line\":{\"width\":2},\"marker\":{\"color\":\"orange\",\"size\":5},\"mode\":\"lines+markers\",\"x\":[1,1,1,1,1,1],\"y\":[1,2,3,4,5,6],\"z\":[7.425224362853841,7.425224362853841,7.425224362853841,7.425224362853841,7.425224362853841,7.425224362853841],\"type\":\"scatter3d\"},{\"line\":{\"width\":2},\"marker\":{\"color\":\"orange\",\"size\":5},\"mode\":\"lines+markers\",\"x\":[2,2,2,2,2,2],\"y\":[1,2,3,4,5,6],\"z\":[9.526064662428986,9.526064662428986,9.526064662428986,9.526064662428986,9.526064662428986,9.526064662428986],\"type\":\"scatter3d\"},{\"line\":{\"width\":2},\"marker\":{\"color\":\"orange\",\"size\":5},\"mode\":\"lines+markers\",\"x\":[3,3,3,3,3,3],\"y\":[1,2,3,4,5,6],\"z\":[5.350265590373117,5.350265590373117,5.350265590373117,5.350265590373117,5.350265590373117,5.350265590373117],\"type\":\"scatter3d\"},{\"line\":{\"width\":2},\"marker\":{\"color\":\"orange\",\"size\":5},\"mode\":\"lines+markers\",\"x\":[4,4,4,4,4,4],\"y\":[1,2,3,4,5,6],\"z\":[0.8210153734594094,0.8210153734594094,0.8210153734594094,0.8210153734594094,0.8210153734594094,0.8210153734594094],\"type\":\"scatter3d\"},{\"line\":{\"width\":2},\"marker\":{\"color\":\"orange\",\"size\":5},\"mode\":\"lines+markers\",\"x\":[5,5,5,5,5,5],\"y\":[1,2,3,4,5,6],\"z\":[6.932754904932135,6.932754904932135,6.932754904932135,6.932754904932135,6.932754904932135,6.932754904932135],\"type\":\"scatter3d\"},{\"line\":{\"width\":2},\"marker\":{\"color\":\"orange\",\"size\":5},\"mode\":\"lines+markers\",\"x\":[6,6,6,6,6,6],\"y\":[1,2,3,4,5,6],\"z\":[4.758686937027132,4.758686937027132,4.758686937027132,4.758686937027132,4.758686937027132,4.758686937027132],\"type\":\"scatter3d\"},{\"line\":{\"width\":2},\"marker\":{\"color\":\"orange\",\"size\":5},\"mode\":\"lines+markers\",\"x\":[7,7,7,7,7,7],\"y\":[1,2,3,4,5,6],\"z\":[1.340810077355743,1.340810077355743,1.340810077355743,1.340810077355743,1.340810077355743,1.340810077355743],\"type\":\"scatter3d\"},{\"line\":{\"width\":2},\"marker\":{\"color\":\"orange\",\"size\":5},\"mode\":\"lines+markers\",\"x\":[8,8,8,8,8,8],\"y\":[1,2,3,4,5,6],\"z\":[7.831524700434156,7.831524700434156,7.831524700434156,7.831524700434156,7.831524700434156,7.831524700434156],\"type\":\"scatter3d\"},{\"line\":{\"width\":2},\"marker\":{\"color\":\"orange\",\"size\":5},\"mode\":\"lines+markers\",\"x\":[9,9,9,9,9,9],\"y\":[1,2,3,4,5,6],\"z\":[6.436575880567804,6.436575880567804,6.436575880567804,6.436575880567804,6.436575880567804,6.436575880567804],\"type\":\"scatter3d\"},{\"line\":{\"width\":2},\"marker\":{\"color\":\"orange\",\"size\":5},\"mode\":\"lines+markers\",\"x\":[10,10,10,10,10,10],\"y\":[1,2,3,4,5,6],\"z\":[1.2370796300366516,1.2370796300366516,1.2370796300366516,1.2370796300366516,1.2370796300366516,1.2370796300366516],\"type\":\"scatter3d\"},{\"line\":{\"width\":2},\"marker\":{\"color\":\"orange\",\"size\":5},\"mode\":\"lines+markers\",\"x\":[11,11,11,11,11,11],\"y\":[1,2,3,4,5,6],\"z\":[2.2129461827699526,2.2129461827699526,2.2129461827699526,2.2129461827699526,2.2129461827699526,2.2129461827699526],\"type\":\"scatter3d\"},{\"line\":{\"width\":2},\"marker\":{\"color\":\"orange\",\"size\":5},\"mode\":\"lines+markers\",\"x\":[12,12,12,12,12,12],\"y\":[1,2,3,4,5,6],\"z\":[9.641381577409367,9.641381577409367,9.641381577409367,9.641381577409367,9.641381577409367,9.641381577409367],\"type\":\"scatter3d\"},{\"line\":{\"width\":2},\"marker\":{\"color\":\"orange\",\"size\":5},\"mode\":\"lines+markers\",\"x\":[13,13,13,13,13,13],\"y\":[1,2,3,4,5,6],\"z\":[7.230764443757972,7.230764443757972,7.230764443757972,7.230764443757972,7.230764443757972,7.230764443757972],\"type\":\"scatter3d\"},{\"line\":{\"width\":2},\"marker\":{\"color\":\"orange\",\"size\":5},\"mode\":\"lines+markers\",\"x\":[14,14,14,14,14,14],\"y\":[1,2,3,4,5,6],\"z\":[1.3739256063533523,1.3739256063533523,1.3739256063533523,1.3739256063533523,1.3739256063533523,1.3739256063533523],\"type\":\"scatter3d\"},{\"line\":{\"width\":2},\"marker\":{\"color\":\"orange\",\"size\":5},\"mode\":\"lines+markers\",\"x\":[15,15,15,15,15,15],\"y\":[1,2,3,4,5,6],\"z\":[8.438864478486156,8.438864478486156,8.438864478486156,8.438864478486156,8.438864478486156,8.438864478486156],\"type\":\"scatter3d\"},{\"line\":{\"width\":2},\"marker\":{\"color\":\"orange\",\"size\":5},\"mode\":\"lines+markers\",\"x\":[16,16,16,16,16,16],\"y\":[1,2,3,4,5,6],\"z\":[2.189244290042305,2.189244290042305,2.189244290042305,2.189244290042305,2.189244290042305,2.189244290042305],\"type\":\"scatter3d\"},{\"line\":{\"width\":2},\"marker\":{\"color\":\"orange\",\"size\":5},\"mode\":\"lines+markers\",\"x\":[17,17,17,17,17,17],\"y\":[1,2,3,4,5,6],\"z\":[7.232063425991273,7.232063425991273,7.232063425991273,7.232063425991273,7.232063425991273,7.232063425991273],\"type\":\"scatter3d\"},{\"line\":{\"width\":2},\"marker\":{\"color\":\"orange\",\"size\":5},\"mode\":\"lines+markers\",\"x\":[18,18,18,18,18,18],\"y\":[1,2,3,4,5,6],\"z\":[1.097653686693485,1.097653686693485,1.097653686693485,1.097653686693485,1.097653686693485,1.097653686693485],\"type\":\"scatter3d\"},{\"line\":{\"width\":2},\"marker\":{\"color\":\"orange\",\"size\":5},\"mode\":\"lines+markers\",\"x\":[19,19,19,19,19,19],\"y\":[1,2,3,4,5,6],\"z\":[3.456960566974053,3.456960566974053,3.456960566974053,3.456960566974053,3.456960566974053,3.456960566974053],\"type\":\"scatter3d\"},{\"line\":{\"width\":2},\"marker\":{\"color\":\"orange\",\"size\":5},\"mode\":\"lines+markers\",\"x\":[20,20,20,20,20,20],\"y\":[1,2,3,4,5,6],\"z\":[8.628690587496788,8.628690587496788,8.628690587496788,8.628690587496788,8.628690587496788,8.628690587496788],\"type\":\"scatter3d\"},{\"line\":{\"width\":2},\"marker\":{\"color\":\"orange\",\"size\":5},\"mode\":\"lines+markers\",\"x\":[21,21,21,21,21,21],\"y\":[1,2,3,4,5,6],\"z\":[7.43320721788728,7.43320721788728,7.43320721788728,7.43320721788728,7.43320721788728,7.43320721788728],\"type\":\"scatter3d\"},{\"line\":{\"width\":2},\"marker\":{\"color\":\"orange\",\"size\":5},\"mode\":\"lines+markers\",\"x\":[22,22,22,22,22,22],\"y\":[1,2,3,4,5,6],\"z\":[8.485316493389984,8.485316493389984,8.485316493389984,8.485316493389984,8.485316493389984,8.485316493389984],\"type\":\"scatter3d\"},{\"line\":{\"width\":2},\"marker\":{\"color\":\"orange\",\"size\":5},\"mode\":\"lines+markers\",\"x\":[23,23,23,23,23,23],\"y\":[1,2,3,4,5,6],\"z\":[3.4603701331003878,3.4603701331003878,3.4603701331003878,3.4603701331003878,3.4603701331003878,3.4603701331003878],\"type\":\"scatter3d\"},{\"line\":{\"width\":2},\"marker\":{\"color\":\"orange\",\"size\":5},\"mode\":\"lines+markers\",\"x\":[24,24,24,24,24,24],\"y\":[1,2,3,4,5,6],\"z\":[8.601893913554537,8.601893913554537,8.601893913554537,8.601893913554537,8.601893913554537,8.601893913554537],\"type\":\"scatter3d\"},{\"line\":{\"width\":2},\"marker\":{\"color\":\"orange\",\"size\":5},\"mode\":\"lines+markers\",\"x\":[25,25,25,25,25,25],\"y\":[1,2,3,4,5,6],\"z\":[7.325176931762446,7.325176931762446,7.325176931762446,7.325176931762446,7.325176931762446,7.325176931762446],\"type\":\"scatter3d\"},{\"line\":{\"width\":2},\"marker\":{\"color\":\"orange\",\"size\":5},\"mode\":\"lines+markers\",\"x\":[26,26,26,26,26,26],\"y\":[1,2,3,4,5,6],\"z\":[6.931647204096213,6.931647204096213,6.931647204096213,6.931647204096213,6.931647204096213,6.931647204096213],\"type\":\"scatter3d\"},{\"line\":{\"width\":2},\"marker\":{\"color\":\"orange\",\"size\":5},\"mode\":\"lines+markers\",\"x\":[27,27,27,27,27,27],\"y\":[1,2,3,4,5,6],\"z\":[7.57939162972616,7.57939162972616,7.57939162972616,7.57939162972616,7.57939162972616,7.57939162972616],\"type\":\"scatter3d\"},{\"line\":{\"width\":2},\"marker\":{\"color\":\"orange\",\"size\":5},\"mode\":\"lines+markers\",\"x\":[28,28,28,28,28,28],\"y\":[1,2,3,4,5,6],\"z\":[5.52391099671254,5.52391099671254,5.52391099671254,5.52391099671254,5.52391099671254,5.52391099671254],\"type\":\"scatter3d\"},{\"line\":{\"width\":2},\"marker\":{\"color\":\"orange\",\"size\":5},\"mode\":\"lines+markers\",\"x\":[29,29,29,29,29,29],\"y\":[1,2,3,4,5,6],\"z\":[4.94766800652709,4.94766800652709,4.94766800652709,4.94766800652709,4.94766800652709,4.94766800652709],\"type\":\"scatter3d\"},{\"line\":{\"width\":2},\"marker\":{\"color\":\"orange\",\"size\":5},\"mode\":\"lines+markers\",\"x\":[30,30,30,30,30,30],\"y\":[1,2,3,4,5,6],\"z\":[5.043776218955375,5.043776218955375,5.043776218955375,5.043776218955375,5.043776218955375,5.043776218955375],\"type\":\"scatter3d\"},{\"line\":{\"width\":2},\"marker\":{\"color\":\"orange\",\"size\":5},\"mode\":\"lines+markers\",\"x\":[31,31,31,31,31,31],\"y\":[1,2,3,4,5,6],\"z\":[3.3640417725850345,3.3640417725850345,3.3640417725850345,3.3640417725850345,3.3640417725850345,3.3640417725850345],\"type\":\"scatter3d\"},{\"line\":{\"width\":2},\"marker\":{\"color\":\"orange\",\"size\":5},\"mode\":\"lines+markers\",\"x\":[32,32,32,32,32,32],\"y\":[1,2,3,4,5,6],\"z\":[8.12086398085253,8.12086398085253,8.12086398085253,8.12086398085253,8.12086398085253,8.12086398085253],\"type\":\"scatter3d\"},{\"line\":{\"width\":2},\"marker\":{\"color\":\"orange\",\"size\":5},\"mode\":\"lines+markers\",\"x\":[33,33,33,33,33,33],\"y\":[1,2,3,4,5,6],\"z\":[7.969457199983175,7.969457199983175,7.969457199983175,7.969457199983175,7.969457199983175,7.969457199983175],\"type\":\"scatter3d\"},{\"line\":{\"width\":2},\"marker\":{\"color\":\"orange\",\"size\":5},\"mode\":\"lines+markers\",\"x\":[34,34,34,34,34,34],\"y\":[1,2,3,4,5,6],\"z\":[9.769155098401114,9.769155098401114,9.769155098401114,9.769155098401114,9.769155098401114,9.769155098401114],\"type\":\"scatter3d\"},{\"line\":{\"width\":2},\"marker\":{\"color\":\"orange\",\"size\":5},\"mode\":\"lines+markers\",\"x\":[35,35,35,35,35,35],\"y\":[1,2,3,4,5,6],\"z\":[5.858304337843693,5.858304337843693,5.858304337843693,5.858304337843693,5.858304337843693,5.858304337843693],\"type\":\"scatter3d\"},{\"line\":{\"width\":2},\"marker\":{\"color\":\"orange\",\"size\":5},\"mode\":\"lines+markers\",\"x\":[36,36,36,36,36,36],\"y\":[1,2,3,4,5,6],\"z\":[4.469079049283793,4.469079049283793,4.469079049283793,4.469079049283793,4.469079049283793,4.469079049283793],\"type\":\"scatter3d\"},{\"line\":{\"width\":2},\"marker\":{\"color\":\"orange\",\"size\":5},\"mode\":\"lines+markers\",\"x\":[37,37,37,37,37,37],\"y\":[1,2,3,4,5,6],\"z\":[9.001479884840485,9.001479884840485,9.001479884840485,9.001479884840485,9.001479884840485,9.001479884840485],\"type\":\"scatter3d\"},{\"line\":{\"width\":2},\"marker\":{\"color\":\"orange\",\"size\":5},\"mode\":\"lines+markers\",\"x\":[38,38,38,38,38,38],\"y\":[1,2,3,4,5,6],\"z\":[0.16105557741619037,0.16105557741619037,0.16105557741619037,0.16105557741619037,0.16105557741619037,0.16105557741619037],\"type\":\"scatter3d\"},{\"line\":{\"width\":2},\"marker\":{\"color\":\"orange\",\"size\":5},\"mode\":\"lines+markers\",\"x\":[39,39,39,39,39,39],\"y\":[1,2,3,4,5,6],\"z\":[2.121958381989455,2.121958381989455,2.121958381989455,2.121958381989455,2.121958381989455,2.121958381989455],\"type\":\"scatter3d\"},{\"line\":{\"width\":2},\"marker\":{\"color\":\"orange\",\"size\":5},\"mode\":\"lines+markers\",\"x\":[40,40,40,40,40,40],\"y\":[1,2,3,4,5,6],\"z\":[6.484346406245533,6.484346406245533,6.484346406245533,6.484346406245533,6.484346406245533,6.484346406245533],\"type\":\"scatter3d\"}],                        {\"template\":{\"data\":{\"histogram2dcontour\":[{\"type\":\"histogram2dcontour\",\"colorbar\":{\"outlinewidth\":0,\"ticks\":\"\"},\"colorscale\":[[0.0,\"#0d0887\"],[0.1111111111111111,\"#46039f\"],[0.2222222222222222,\"#7201a8\"],[0.3333333333333333,\"#9c179e\"],[0.4444444444444444,\"#bd3786\"],[0.5555555555555556,\"#d8576b\"],[0.6666666666666666,\"#ed7953\"],[0.7777777777777778,\"#fb9f3a\"],[0.8888888888888888,\"#fdca26\"],[1.0,\"#f0f921\"]]}],\"choropleth\":[{\"type\":\"choropleth\",\"colorbar\":{\"outlinewidth\":0,\"ticks\":\"\"}}],\"histogram2d\":[{\"type\":\"histogram2d\",\"colorbar\":{\"outlinewidth\":0,\"ticks\":\"\"},\"colorscale\":[[0.0,\"#0d0887\"],[0.1111111111111111,\"#46039f\"],[0.2222222222222222,\"#7201a8\"],[0.3333333333333333,\"#9c179e\"],[0.4444444444444444,\"#bd3786\"],[0.5555555555555556,\"#d8576b\"],[0.6666666666666666,\"#ed7953\"],[0.7777777777777778,\"#fb9f3a\"],[0.8888888888888888,\"#fdca26\"],[1.0,\"#f0f921\"]]}],\"heatmap\":[{\"type\":\"heatmap\",\"colorbar\":{\"outlinewidth\":0,\"ticks\":\"\"},\"colorscale\":[[0.0,\"#0d0887\"],[0.1111111111111111,\"#46039f\"],[0.2222222222222222,\"#7201a8\"],[0.3333333333333333,\"#9c179e\"],[0.4444444444444444,\"#bd3786\"],[0.5555555555555556,\"#d8576b\"],[0.6666666666666666,\"#ed7953\"],[0.7777777777777778,\"#fb9f3a\"],[0.8888888888888888,\"#fdca26\"],[1.0,\"#f0f921\"]]}],\"heatmapgl\":[{\"type\":\"heatmapgl\",\"colorbar\":{\"outlinewidth\":0,\"ticks\":\"\"},\"colorscale\":[[0.0,\"#0d0887\"],[0.1111111111111111,\"#46039f\"],[0.2222222222222222,\"#7201a8\"],[0.3333333333333333,\"#9c179e\"],[0.4444444444444444,\"#bd3786\"],[0.5555555555555556,\"#d8576b\"],[0.6666666666666666,\"#ed7953\"],[0.7777777777777778,\"#fb9f3a\"],[0.8888888888888888,\"#fdca26\"],[1.0,\"#f0f921\"]]}],\"contourcarpet\":[{\"type\":\"contourcarpet\",\"colorbar\":{\"outlinewidth\":0,\"ticks\":\"\"}}],\"contour\":[{\"type\":\"contour\",\"colorbar\":{\"outlinewidth\":0,\"ticks\":\"\"},\"colorscale\":[[0.0,\"#0d0887\"],[0.1111111111111111,\"#46039f\"],[0.2222222222222222,\"#7201a8\"],[0.3333333333333333,\"#9c179e\"],[0.4444444444444444,\"#bd3786\"],[0.5555555555555556,\"#d8576b\"],[0.6666666666666666,\"#ed7953\"],[0.7777777777777778,\"#fb9f3a\"],[0.8888888888888888,\"#fdca26\"],[1.0,\"#f0f921\"]]}],\"surface\":[{\"type\":\"surface\",\"colorbar\":{\"outlinewidth\":0,\"ticks\":\"\"},\"colorscale\":[[0.0,\"#0d0887\"],[0.1111111111111111,\"#46039f\"],[0.2222222222222222,\"#7201a8\"],[0.3333333333333333,\"#9c179e\"],[0.4444444444444444,\"#bd3786\"],[0.5555555555555556,\"#d8576b\"],[0.6666666666666666,\"#ed7953\"],[0.7777777777777778,\"#fb9f3a\"],[0.8888888888888888,\"#fdca26\"],[1.0,\"#f0f921\"]]}],\"mesh3d\":[{\"type\":\"mesh3d\",\"colorbar\":{\"outlinewidth\":0,\"ticks\":\"\"}}],\"scatter\":[{\"fillpattern\":{\"fillmode\":\"overlay\",\"size\":10,\"solidity\":0.2},\"type\":\"scatter\"}],\"parcoords\":[{\"type\":\"parcoords\",\"line\":{\"colorbar\":{\"outlinewidth\":0,\"ticks\":\"\"}}}],\"scatterpolargl\":[{\"type\":\"scatterpolargl\",\"marker\":{\"colorbar\":{\"outlinewidth\":0,\"ticks\":\"\"}}}],\"bar\":[{\"error_x\":{\"color\":\"#2a3f5f\"},\"error_y\":{\"color\":\"#2a3f5f\"},\"marker\":{\"line\":{\"color\":\"#E5ECF6\",\"width\":0.5},\"pattern\":{\"fillmode\":\"overlay\",\"size\":10,\"solidity\":0.2}},\"type\":\"bar\"}],\"scattergeo\":[{\"type\":\"scattergeo\",\"marker\":{\"colorbar\":{\"outlinewidth\":0,\"ticks\":\"\"}}}],\"scatterpolar\":[{\"type\":\"scatterpolar\",\"marker\":{\"colorbar\":{\"outlinewidth\":0,\"ticks\":\"\"}}}],\"histogram\":[{\"marker\":{\"pattern\":{\"fillmode\":\"overlay\",\"size\":10,\"solidity\":0.2}},\"type\":\"histogram\"}],\"scattergl\":[{\"type\":\"scattergl\",\"marker\":{\"colorbar\":{\"outlinewidth\":0,\"ticks\":\"\"}}}],\"scatter3d\":[{\"type\":\"scatter3d\",\"line\":{\"colorbar\":{\"outlinewidth\":0,\"ticks\":\"\"}},\"marker\":{\"colorbar\":{\"outlinewidth\":0,\"ticks\":\"\"}}}],\"scattermapbox\":[{\"type\":\"scattermapbox\",\"marker\":{\"colorbar\":{\"outlinewidth\":0,\"ticks\":\"\"}}}],\"scatterternary\":[{\"type\":\"scatterternary\",\"marker\":{\"colorbar\":{\"outlinewidth\":0,\"ticks\":\"\"}}}],\"scattercarpet\":[{\"type\":\"scattercarpet\",\"marker\":{\"colorbar\":{\"outlinewidth\":0,\"ticks\":\"\"}}}],\"carpet\":[{\"aaxis\":{\"endlinecolor\":\"#2a3f5f\",\"gridcolor\":\"white\",\"linecolor\":\"white\",\"minorgridcolor\":\"white\",\"startlinecolor\":\"#2a3f5f\"},\"baxis\":{\"endlinecolor\":\"#2a3f5f\",\"gridcolor\":\"white\",\"linecolor\":\"white\",\"minorgridcolor\":\"white\",\"startlinecolor\":\"#2a3f5f\"},\"type\":\"carpet\"}],\"table\":[{\"cells\":{\"fill\":{\"color\":\"#EBF0F8\"},\"line\":{\"color\":\"white\"}},\"header\":{\"fill\":{\"color\":\"#C8D4E3\"},\"line\":{\"color\":\"white\"}},\"type\":\"table\"}],\"barpolar\":[{\"marker\":{\"line\":{\"color\":\"#E5ECF6\",\"width\":0.5},\"pattern\":{\"fillmode\":\"overlay\",\"size\":10,\"solidity\":0.2}},\"type\":\"barpolar\"}],\"pie\":[{\"automargin\":true,\"type\":\"pie\"}]},\"layout\":{\"autotypenumbers\":\"strict\",\"colorway\":[\"#636efa\",\"#EF553B\",\"#00cc96\",\"#ab63fa\",\"#FFA15A\",\"#19d3f3\",\"#FF6692\",\"#B6E880\",\"#FF97FF\",\"#FECB52\"],\"font\":{\"color\":\"#2a3f5f\"},\"hovermode\":\"closest\",\"hoverlabel\":{\"align\":\"left\"},\"paper_bgcolor\":\"white\",\"plot_bgcolor\":\"#E5ECF6\",\"polar\":{\"bgcolor\":\"#E5ECF6\",\"angularaxis\":{\"gridcolor\":\"white\",\"linecolor\":\"white\",\"ticks\":\"\"},\"radialaxis\":{\"gridcolor\":\"white\",\"linecolor\":\"white\",\"ticks\":\"\"}},\"ternary\":{\"bgcolor\":\"#E5ECF6\",\"aaxis\":{\"gridcolor\":\"white\",\"linecolor\":\"white\",\"ticks\":\"\"},\"baxis\":{\"gridcolor\":\"white\",\"linecolor\":\"white\",\"ticks\":\"\"},\"caxis\":{\"gridcolor\":\"white\",\"linecolor\":\"white\",\"ticks\":\"\"}},\"coloraxis\":{\"colorbar\":{\"outlinewidth\":0,\"ticks\":\"\"}},\"colorscale\":{\"sequential\":[[0.0,\"#0d0887\"],[0.1111111111111111,\"#46039f\"],[0.2222222222222222,\"#7201a8\"],[0.3333333333333333,\"#9c179e\"],[0.4444444444444444,\"#bd3786\"],[0.5555555555555556,\"#d8576b\"],[0.6666666666666666,\"#ed7953\"],[0.7777777777777778,\"#fb9f3a\"],[0.8888888888888888,\"#fdca26\"],[1.0,\"#f0f921\"]],\"sequentialminus\":[[0.0,\"#0d0887\"],[0.1111111111111111,\"#46039f\"],[0.2222222222222222,\"#7201a8\"],[0.3333333333333333,\"#9c179e\"],[0.4444444444444444,\"#bd3786\"],[0.5555555555555556,\"#d8576b\"],[0.6666666666666666,\"#ed7953\"],[0.7777777777777778,\"#fb9f3a\"],[0.8888888888888888,\"#fdca26\"],[1.0,\"#f0f921\"]],\"diverging\":[[0,\"#8e0152\"],[0.1,\"#c51b7d\"],[0.2,\"#de77ae\"],[0.3,\"#f1b6da\"],[0.4,\"#fde0ef\"],[0.5,\"#f7f7f7\"],[0.6,\"#e6f5d0\"],[0.7,\"#b8e186\"],[0.8,\"#7fbc41\"],[0.9,\"#4d9221\"],[1,\"#276419\"]]},\"xaxis\":{\"gridcolor\":\"white\",\"linecolor\":\"white\",\"ticks\":\"\",\"title\":{\"standoff\":15},\"zerolinecolor\":\"white\",\"automargin\":true,\"zerolinewidth\":2},\"yaxis\":{\"gridcolor\":\"white\",\"linecolor\":\"white\",\"ticks\":\"\",\"title\":{\"standoff\":15},\"zerolinecolor\":\"white\",\"automargin\":true,\"zerolinewidth\":2},\"scene\":{\"xaxis\":{\"backgroundcolor\":\"#E5ECF6\",\"gridcolor\":\"white\",\"linecolor\":\"white\",\"showbackground\":true,\"ticks\":\"\",\"zerolinecolor\":\"white\",\"gridwidth\":2},\"yaxis\":{\"backgroundcolor\":\"#E5ECF6\",\"gridcolor\":\"white\",\"linecolor\":\"white\",\"showbackground\":true,\"ticks\":\"\",\"zerolinecolor\":\"white\",\"gridwidth\":2},\"zaxis\":{\"backgroundcolor\":\"#E5ECF6\",\"gridcolor\":\"white\",\"linecolor\":\"white\",\"showbackground\":true,\"ticks\":\"\",\"zerolinecolor\":\"white\",\"gridwidth\":2}},\"shapedefaults\":{\"line\":{\"color\":\"#2a3f5f\"}},\"annotationdefaults\":{\"arrowcolor\":\"#2a3f5f\",\"arrowhead\":0,\"arrowwidth\":1},\"geo\":{\"bgcolor\":\"white\",\"landcolor\":\"#E5ECF6\",\"subunitcolor\":\"white\",\"showland\":true,\"showlakes\":true,\"lakecolor\":\"white\"},\"title\":{\"x\":0.05},\"mapbox\":{\"style\":\"light\"}}},\"title\":{\"text\":\"3D Landing Probability on Monopoly Fields\"},\"scene\":{\"xaxis\":{\"title\":{\"text\":\"Fields\"}},\"yaxis\":{\"title\":{\"text\":\"Dice Rolls\"}},\"zaxis\":{\"title\":{\"text\":\"Landing Probability\"}}}},                        {\"responsive\": true}                    ).then(function(){\n",
              "                            \n",
              "var gd = document.getElementById('d492750f-6515-439b-92c7-65aff0b4e4af');\n",
              "var x = new MutationObserver(function (mutations, observer) {{\n",
              "        var display = window.getComputedStyle(gd).display;\n",
              "        if (!display || display === 'none') {{\n",
              "            console.log([gd, 'removed!']);\n",
              "            Plotly.purge(gd);\n",
              "            observer.disconnect();\n",
              "        }}\n",
              "}});\n",
              "\n",
              "// Listen for the removal of the full notebook cells\n",
              "var notebookContainer = gd.closest('#notebook-container');\n",
              "if (notebookContainer) {{\n",
              "    x.observe(notebookContainer, {childList: true});\n",
              "}}\n",
              "\n",
              "// Listen for the clearing of the current output cell\n",
              "var outputEl = gd.closest('.output');\n",
              "if (outputEl) {{\n",
              "    x.observe(outputEl, {childList: true});\n",
              "}}\n",
              "\n",
              "                        })                };                            </script>        </div>\n",
              "</body>\n",
              "</html>"
            ]
          },
          "metadata": {}
        }
      ]
    }
  ],
  "metadata": {
    "colab": {
      "provenance": []
    },
    "kernelspec": {
      "display_name": "Python 3",
      "name": "python3"
    },
    "language_info": {
      "name": "python"
    }
  },
  "nbformat": 4,
  "nbformat_minor": 0
}
